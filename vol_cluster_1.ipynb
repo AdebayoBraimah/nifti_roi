{
 "cells": [
  {
   "cell_type": "code",
   "execution_count": 1,
   "metadata": {},
   "outputs": [],
   "source": [
    "import os\n",
    "import numpy as np\n",
    "import pandas as pd\n",
    "import nibabel as nib\n",
    "import subprocess"
   ]
  },
  {
   "cell_type": "markdown",
   "metadata": {},
   "source": [
    "# Define class(es)"
   ]
  },
  {
   "cell_type": "code",
   "execution_count": 2,
   "metadata": {},
   "outputs": [],
   "source": [
    "class Command():\n",
    "    '''\n",
    "    Creates a command and an empty command list for UNIX command line programs/applications. Primary use and\n",
    "    use-cases are intended for the subprocess module and its associated classes (i.e. call/run).\n",
    "    Attributes:\n",
    "        command: Command to be performed on the command line\n",
    "    '''\n",
    "\n",
    "    def __init__(self):\n",
    "        '''\n",
    "        Init doc-string for Command class.\n",
    "        '''\n",
    "        pass\n",
    "\n",
    "    def init_cmd(self, command):\n",
    "        '''\n",
    "        Init command function for initializing commands to be used on UNIX command line.\n",
    "        \n",
    "        Arguments:\n",
    "            command (string): Command to be used. Note: command used must be in system path\n",
    "        Returns:\n",
    "            cmd_list (list): Mutable list that can be appended to.\n",
    "        '''\n",
    "        self.command = command\n",
    "        self.cmd_list = [f\"{self.command}\"]\n",
    "        return self.cmd_list"
   ]
  },
  {
   "cell_type": "code",
   "execution_count": 3,
   "metadata": {},
   "outputs": [],
   "source": [
    "def run(cmd_list,stdout=\"\",stderr=\"\"):\n",
    "    '''\n",
    "    Uses python's built-in subprocess class to run a command from an input command list.\n",
    "    The standard output and error can optionally be written to file.\n",
    "    \n",
    "    Arguments:\n",
    "        cmd_list(list): Input command list to be run from the UNIX command line.\n",
    "        stdout(file): Output file to write standard output to.\n",
    "        stderr(file): Output file to write standard error to.\n",
    "    Returns:\n",
    "        stdout(file): Output file that contains the standard output.\n",
    "        stderr(file): Output file that contains the standard error.\n",
    "    '''\n",
    "    if stdout and stderr:\n",
    "        with open(stdout,\"w\") as file:\n",
    "            with open(stderr,\"w\") as file_err:\n",
    "                subprocess.call(cmd_list,stdout=file,stderr=file_err)\n",
    "                file.close(); file_err.close()\n",
    "    elif stdout:\n",
    "        with open(stdout,\"w\") as file:\n",
    "            subprocess.call(cmd_list,stdout=file)\n",
    "            file.close()\n",
    "        stderr = None\n",
    "    else:\n",
    "        subprocess.call(cmd_list)\n",
    "        stdout = None\n",
    "        stderr = None\n",
    "\n",
    "    return stdout,stderr"
   ]
  },
  {
   "cell_type": "markdown",
   "metadata": {},
   "source": [
    "# Work Space\n",
    "-----\n",
    "Work space for testing functions"
   ]
  },
  {
   "cell_type": "code",
   "execution_count": 4,
   "metadata": {},
   "outputs": [],
   "source": [
    "csv_file = \"infant-neo-aal.csv\""
   ]
  },
  {
   "cell_type": "code",
   "execution_count": 21,
   "metadata": {},
   "outputs": [],
   "source": [
    "def read_atlas_file(atlas_info):\n",
    "    '''\n",
    "    working doc-string\n",
    "    '''\n",
    "    \n",
    "    atlas_info = os.path.abspath(atlas_info)\n",
    "    \n",
    "    atlas_info = os.path.abspath(atlas_info)\n",
    "    df = pd.read_csv(atlas_info,header=None); df.columns = ['key', 'id']\n",
    "    atlas_dict = df.set_index('key').to_dict(orient='dict')['id']\n",
    "    \n",
    "    return atlas_dict"
   ]
  },
  {
   "cell_type": "code",
   "execution_count": null,
   "metadata": {},
   "outputs": [],
   "source": []
  },
  {
   "cell_type": "code",
   "execution_count": 6,
   "metadata": {},
   "outputs": [],
   "source": [
    "nii_atlas = \"infant-neo-aal-2mm.nii\"\n",
    "# nii_atlas = \"infant-neo-aal-2mm_int.nii\""
   ]
  },
  {
   "cell_type": "code",
   "execution_count": 7,
   "metadata": {},
   "outputs": [],
   "source": [
    "# img = nib.load(nii_atlas)"
   ]
  },
  {
   "cell_type": "code",
   "execution_count": 8,
   "metadata": {
    "scrolled": true
   },
   "outputs": [],
   "source": [
    "# print(img.header)"
   ]
  },
  {
   "cell_type": "code",
   "execution_count": 9,
   "metadata": {},
   "outputs": [],
   "source": [
    "# img.get_data"
   ]
  },
  {
   "cell_type": "code",
   "execution_count": 10,
   "metadata": {
    "scrolled": true
   },
   "outputs": [],
   "source": [
    "# data = img.get_fdata()\n",
    "# data.astype(int)"
   ]
  },
  {
   "cell_type": "code",
   "execution_count": 11,
   "metadata": {},
   "outputs": [],
   "source": [
    "# type(data)"
   ]
  },
  {
   "cell_type": "code",
   "execution_count": 12,
   "metadata": {},
   "outputs": [],
   "source": [
    "# len(data)"
   ]
  },
  {
   "cell_type": "code",
   "execution_count": 13,
   "metadata": {},
   "outputs": [],
   "source": [
    "# data.shape"
   ]
  },
  {
   "cell_type": "code",
   "execution_count": 14,
   "metadata": {},
   "outputs": [],
   "source": [
    "# len(np.unique(data.astype(int)))"
   ]
  },
  {
   "cell_type": "code",
   "execution_count": 15,
   "metadata": {},
   "outputs": [],
   "source": [
    "# len(np.unique(data.astype(int)))"
   ]
  },
  {
   "cell_type": "code",
   "execution_count": 17,
   "metadata": {},
   "outputs": [],
   "source": [
    "def remove_ext(file):\n",
    "    '''\n",
    "    working doc-string\n",
    "    '''\n",
    "    \n",
    "    if '.nii.gz' in file:\n",
    "        name = file[:-7]\n",
    "    elif '.nii' in file:\n",
    "        name = file[:-4]\n",
    "    elif '.txt' in file or '.tsv' in file or '.csv' in file:\n",
    "        name = file\n",
    "    else:\n",
    "        name = file\n",
    "    \n",
    "    return name"
   ]
  },
  {
   "cell_type": "code",
   "execution_count": 18,
   "metadata": {},
   "outputs": [],
   "source": [
    "def convert_img_dtype(img,data_type=\"int\"):\n",
    "    '''\n",
    "    working doc-string\n",
    "    '''\n",
    "    \n",
    "    # remove_ext, use fslmaths to convert image from float to int\n",
    "    img = os.path.abspath(img)\n",
    "    out_dir = os.path.dirname(img)\n",
    "    \n",
    "    img = remove_ext(img)\n",
    "    name = os.path.basename(img)\n",
    "    \n",
    "    out_file = os.path.join(out_dir,name + \".int\" + \".nii.gz\")\n",
    "    \n",
    "    img_dtype = Command().init_cmd(\"fslmaths\")\n",
    "    img_dtype.append(\"-dt\")\n",
    "    img_dtype.append(data_type)\n",
    "    img_dtype.append(img)\n",
    "    img_dtype.append(out_file)\n",
    "    img_dtype.append(\"-odt\")\n",
    "    img_dtype.append(data_type)\n",
    "    \n",
    "    run(img_dtype)\n",
    "    \n",
    "    return out_file"
   ]
  },
  {
   "cell_type": "code",
   "execution_count": null,
   "metadata": {},
   "outputs": [],
   "source": []
  },
  {
   "cell_type": "code",
   "execution_count": null,
   "metadata": {},
   "outputs": [],
   "source": []
  },
  {
   "cell_type": "code",
   "execution_count": 19,
   "metadata": {},
   "outputs": [],
   "source": [
    "def load_atlas_data(nii_atlas,atlas_info,data_type=\"int\"):\n",
    "    '''\n",
    "    working doc-string\n",
    "    '''\n",
    "    \n",
    "    # Load atlas key/ID information\n",
    "    atlas_dict = read_atlas_file(atlas_info)\n",
    "    \n",
    "    # Convert input image from float to int\n",
    "    int_data = convert_img_dtype(nii_atlas,data_type)\n",
    "    \n",
    "    # Load/export data as numpy array\n",
    "    img = nib.load(int_data)\n",
    "    atlas_data = img.get_fdata()\n",
    "    \n",
    "    # Clean-up\n",
    "    os.remove(int_data)\n",
    "    \n",
    "    return atlas_data,atlas_dict"
   ]
  },
  {
   "cell_type": "code",
   "execution_count": 20,
   "metadata": {},
   "outputs": [],
   "source": [
    "[atlas_data,atlas_dict] = load_atlas_data(nii_atlas,csv_file)"
   ]
  },
  {
   "cell_type": "code",
   "execution_count": 22,
   "metadata": {},
   "outputs": [],
   "source": [
    "def make_cluster_vol(nii_file,thresh=0.95,dist=0):\n",
    "    '''\n",
    "    working doc-string\n",
    "    '''\n",
    "    \n",
    "    # Construct file paths\n",
    "    nii_file = os.path.abspath(nii_file)\n",
    "    out_dir = os.path.dirname(nii_file)\n",
    "    \n",
    "    nii_file = remove_ext(nii_file)\n",
    "    name = os.path.basename(nii_file)\n",
    "    out_prefix = os.path.join(out_dir,name + \".cluster\")\n",
    "    \n",
    "    out_file = out_prefix + \".nii.gz\"\n",
    "    out_stat = out_prefix + \".txt\"\n",
    "    \n",
    "    # Make cluster(s) from input data\n",
    "    clust_cmd = Command.init_cmd(\"cluster\")\n",
    "    clust_cmd.append(f\"--input={nii_file}\")\n",
    "    clust_cmd.append(f\"--thresh={thresh}\")\n",
    "    clust_cmd.append(f\"--peakdist={dist}\")\n",
    "    clust_cmd.append(f\"--othresh={out_file}\")\n",
    "    \n",
    "    run(clust_cmd,out_stat)\n",
    "    \n",
    "    return out_file,out_stat"
   ]
  },
  {
   "cell_type": "code",
   "execution_count": null,
   "metadata": {},
   "outputs": [],
   "source": []
  }
 ],
 "metadata": {
  "kernelspec": {
   "display_name": "Python 3",
   "language": "python",
   "name": "python3"
  },
  "language_info": {
   "codemirror_mode": {
    "name": "ipython",
    "version": 3
   },
   "file_extension": ".py",
   "mimetype": "text/x-python",
   "name": "python",
   "nbconvert_exporter": "python",
   "pygments_lexer": "ipython3",
   "version": "3.7.3"
  }
 },
 "nbformat": 4,
 "nbformat_minor": 2
}
