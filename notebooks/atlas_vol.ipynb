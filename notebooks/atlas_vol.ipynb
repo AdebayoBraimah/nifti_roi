{
 "cells": [
  {
   "cell_type": "code",
   "execution_count": 11,
   "metadata": {},
   "outputs": [],
   "source": [
    "import os\n",
    "import re\n",
    "import sys\n",
    "import numpy as np\n",
    "import pandas as pd\n",
    "import nibabel as nib\n",
    "import subprocess"
   ]
  },
  {
   "cell_type": "code",
   "execution_count": 9,
   "metadata": {},
   "outputs": [],
   "source": [
    "# Define global variable(s)\n",
    "# scripts_dir = os.path.dirname(os.path.realpath(__file__))\n",
    "scripts_dir = os.getcwd()"
   ]
  },
  {
   "cell_type": "code",
   "execution_count": 2,
   "metadata": {},
   "outputs": [],
   "source": [
    "class Command():\n",
    "    '''\n",
    "    Creates a command and an empty command list for UNIX command line programs/applications. Primary use and\n",
    "    use-cases are intended for the subprocess module and its associated classes (i.e. call/run).\n",
    "    Attributes:\n",
    "        command: Command to be performed on the command line\n",
    "    '''\n",
    "\n",
    "    def __init__(self):\n",
    "        '''\n",
    "        Init doc-string for Command class.\n",
    "        '''\n",
    "        pass\n",
    "\n",
    "    def init_cmd(self, command):\n",
    "        '''\n",
    "        Init command function for initializing commands to be used on UNIX command line.\n",
    "        \n",
    "        Arguments:\n",
    "            command (string): Command to be used. Note: command used must be in system path\n",
    "        Returns:\n",
    "            cmd_list (list): Mutable list that can be appended to.\n",
    "        '''\n",
    "        self.command = command\n",
    "        self.cmd_list = [f\"{self.command}\"]\n",
    "        return self.cmd_list"
   ]
  },
  {
   "cell_type": "code",
   "execution_count": 3,
   "metadata": {},
   "outputs": [],
   "source": [
    "def run(cmd_list,stdout=\"\",stderr=\"\"):\n",
    "    '''\n",
    "    Uses python's built-in subprocess class to run a command from an input command list.\n",
    "    The standard output and error can optionally be written to file.\n",
    "    \n",
    "    Arguments:\n",
    "        cmd_list(list): Input command list to be run from the UNIX command line.\n",
    "        stdout(file): Output file to write standard output to.\n",
    "        stderr(file): Output file to write standard error to.\n",
    "    Returns:\n",
    "        stdout(file): Output file that contains the standard output.\n",
    "        stderr(file): Output file that contains the standard error.\n",
    "    '''\n",
    "    if stdout and stderr:\n",
    "        with open(stdout,\"w\") as file:\n",
    "            with open(stderr,\"w\") as file_err:\n",
    "                subprocess.call(cmd_list,stdout=file,stderr=file_err)\n",
    "                file.close(); file_err.close()\n",
    "    elif stdout:\n",
    "        with open(stdout,\"w\") as file:\n",
    "            subprocess.call(cmd_list,stdout=file)\n",
    "            file.close()\n",
    "        stderr = None\n",
    "    else:\n",
    "        subprocess.call(cmd_list)\n",
    "        stdout = None\n",
    "        stderr = None\n",
    "\n",
    "    return stdout,stderr"
   ]
  },
  {
   "cell_type": "code",
   "execution_count": 28,
   "metadata": {},
   "outputs": [],
   "source": [
    "def roi_loc(coords,vol_atlas_num=3):\n",
    "    '''\n",
    "    Uses input list of X,Y,Z MNI space mm coordinates to identify ROIs.\n",
    "    \n",
    "    NOTE: External bash script is used.\n",
    "    \n",
    "    Arguments:\n",
    "        coords(list): Coordinate list with a lenth of 3 that corresponds to the XYZ coordinates of some ROI in MNI space.\n",
    "        vol_atlas_num(int): Atlas to be used in FSL's `atlasquery`. Number corresponds to an atlas. See FSL's `atlasquery` help menu for details.\n",
    "    Returns:\n",
    "        roi_list(list): List of ROIs generated from input coordinates.\n",
    "    '''\n",
    "    \n",
    "    # Define volume atlas number dictionary\n",
    "    vol_atlas_dict = {\n",
    "    1: \"Cerebellar Atlas in MNI152 space after normalization with FLIRT\",\n",
    "    2: \"Cerebellar Atlas in MNI152 space after normalization with FNIRT\",\n",
    "    3: \"Harvard-Oxford Cortical Structural Atlas\",\n",
    "    4: \"Harvard-Oxford Subcortical Structural Atlas\",\n",
    "    5: \"Human Sensorimotor Tracts Labels\",\n",
    "    6: \"JHU ICBM-DTI-81 White-Matter Labels\",\n",
    "    7: \"JHU White-Matter Tractography Atlas\",\n",
    "    8: \"Juelich Histological Atlas\",\n",
    "    9: \"MNI Structural Atlas\",\n",
    "    10: \"Mars Parietal connectivity-based parcellation\",\n",
    "    11: \"Mars TPJ connectivity-based parcellation\",\n",
    "    12: \"Neubert Ventral Frontal connectivity-based parcellation\",\n",
    "    13: \"Oxford Thalamic Connectivity Probability Atlas\",\n",
    "    14: \"Oxford-Imanova Striatal Connectivity Atlas 3 sub-regions\",\n",
    "    15: \"Oxford-Imanova Striatal Connectivity Atlas 7 sub-regions\",\n",
    "    16: \"Oxford-Imanova Striatal Structural Atlas\",\n",
    "    17: \"Sallet Dorsal Frontal connectivity-based parcellation\",\n",
    "    18: \"Subthalamic Nucleus Atlas\",\n",
    "    19: \"Talairach Daemon Labels\"}\n",
    "    \n",
    "    # Define list and output file\n",
    "    roi_list = list()\n",
    "    out_file = \"subcort.rois.txt\"\n",
    "    \n",
    "    if len(coords) == 3:\n",
    "        atlasq_cmd = os.path.join(scripts_dir,\"atlasq.sh\")\n",
    "        atlasq = Command().init_cmd(atlasq_cmd)\n",
    "        atlasq.append(f\"--coord\")\n",
    "        atlasq.append(f\"\\\"{coords[0]},{coords[1]},{coords[2]}\\\"\")\n",
    "        atlasq.append(\"--atlas-num\")\n",
    "        atlasq.append(f\"{vol_atlas_num}\")\n",
    "    \n",
    "        run(atlasq,out_file)\n",
    "\n",
    "        with open(out_file,\"r\") as file:\n",
    "            text = file.readlines()\n",
    "            for i in range(0,len(text)):\n",
    "                text[i] = re.sub(f\"<b>{vol_atlas_dict[vol_atlas_num]}</b><br>\",\"\",text[i].rstrip())\n",
    "\n",
    "        os.remove(out_file)\n",
    "        \n",
    "        if len(text) == 0:\n",
    "            pass\n",
    "        else:\n",
    "            roi_list.extend(text) \n",
    "        \n",
    "    return roi_list"
   ]
  },
  {
   "cell_type": "code",
   "execution_count": 5,
   "metadata": {},
   "outputs": [],
   "source": [
    "def vol_clust(nii_file,thresh=0.95,dist=0,vol_atlas_num=3):\n",
    "    '''\n",
    "    Identifies clusters in a volumetric (NIFTI) file.\n",
    "    \n",
    "    Arguments:\n",
    "        nii_file(file): Input NIFTI file\n",
    "        thresh(float): Cluster minimum threshold\n",
    "        dist(float): Minimum distance between clusters\n",
    "        vol_atlas_num(int): Atlas to be used in FSL's `atlasquery`. Number corresponds to an atlas. See FSL's `atlasquery` help menu for details.\n",
    "    Returns:\n",
    "        roi_list(list): List of ROIs that overlap with some given cluster\n",
    "    '''\n",
    "    \n",
    "    out_file = \"vol.cluster.tsv\"\n",
    "    \n",
    "    roi_list = list()\n",
    "    tmp_list = list()\n",
    "    \n",
    "    vol_clust = Command().init_cmd(\"cluster\")\n",
    "    \n",
    "    vol_clust.append(f\"--in={nii_file}\")\n",
    "    vol_clust.append(f\"--thresh={thresh}\")\n",
    "    vol_clust.append(f\"--peakdist={dist}\")\n",
    "    vol_clust.append(\"--mm\")\n",
    "    \n",
    "    run(vol_clust,out_file)\n",
    "    \n",
    "    df_tmp = pd.read_csv(out_file,sep=\"\\t\")\n",
    "    \n",
    "    os.remove(out_file)\n",
    "    \n",
    "    df = df_tmp[['MAX X (mm)','MAX Y (mm)','MAX Z (mm)']].copy()\n",
    "    \n",
    "    for i in range(0,len(df)):\n",
    "        coord_list=[df['MAX X (mm)'][i],df['MAX Y (mm)'][i],df['MAX Z (mm)'][i]]\n",
    "        tmp_list = roi_loc(coord_list,vol_atlas_num)\n",
    "        if len(tmp_list) == 0:\n",
    "            pass\n",
    "        else:\n",
    "            roi_list.extend(tmp_list)\n",
    "    \n",
    "    return roi_list"
   ]
  },
  {
   "cell_type": "code",
   "execution_count": 6,
   "metadata": {},
   "outputs": [],
   "source": [
    "n = \"test.files/dr_stage3_ic0002_tfce_corrp_tstat2.nii.gz\""
   ]
  },
  {
   "cell_type": "code",
   "execution_count": 27,
   "metadata": {
    "scrolled": true
   },
   "outputs": [
    {
     "data": {
      "text/plain": [
       "['11% Cingulate Gyrus, posterior division']"
      ]
     },
     "execution_count": 27,
     "metadata": {},
     "output_type": "execute_result"
    }
   ],
   "source": [
    "vol_clust(n,thresh=0.95,dist=0,vol_atlas_num=3)"
   ]
  },
  {
   "cell_type": "code",
   "execution_count": 25,
   "metadata": {},
   "outputs": [
    {
     "data": {
      "text/plain": [
       "['73% Right Hippocampus, 14% Right Cerebral White Matter, 3% Right Cerebral Cortex']"
      ]
     },
     "execution_count": 25,
     "metadata": {},
     "output_type": "execute_result"
    }
   ],
   "source": [
    "roi_loc([24,-28,-10],4)"
   ]
  },
  {
   "cell_type": "code",
   "execution_count": null,
   "metadata": {},
   "outputs": [],
   "source": [
    "def proc_vol(nii_file,out_file,thresh = 0.95, dist = 0, vol_atlas_num = 3, nii_atlas = \"\", atlas_info = \"\"):\n",
    "    '''\n",
    "    Identifies ROIs that have overlap with some cluster(s) from the input NIFTI file.\n",
    "    \n",
    "    Arguments:\n",
    "        nii_file(NIFTI file): Input NIFTI volume file\n",
    "        out_file(file): Name for output CSV\n",
    "        thresh(float): Threshold values below this value\n",
    "        dist(float): Minimum distance between two or more clusters\n",
    "        vol_atlas_num(int): Atlas to be used in FSL's `atlasquery`. Number corresponds to an atlas. See FSL's `atlasquery` help menu for details.\n",
    "        nii_atlas(NIFTI file): NIFTI atlas file\n",
    "        atlas_info(file): Corresponding CSV key, value pairs of ROIs for atlas file\n",
    "    Returns:\n",
    "      out_filefile(file): Output CSV file\n",
    "    '''\n",
    "    \n",
    "    if nii_atlas and atlas_info:\n",
    "        # Read atlas data and info\n",
    "        [atlas_data,atlas_dict] = load_atlas_data(nii_atlas,atlas_info)\n",
    "\n",
    "        # Read NIFTI data and find clusters\n",
    "        img_data = load_nii_vol(nii_file,thresh,dist)\n",
    "\n",
    "        # Identify cluster and ROI overlaps\n",
    "        roi_list = get_roi_name(img_data,atlas_data,atlas_dict)\n",
    "    else:\n",
    "        roi_list = vol_clust(nii_file,thresh,dist,vol_atlas_num)\n",
    "    \n",
    "    # Write spreadsheet to file\n",
    "    if len(roi_list) != 0:\n",
    "        out_file = write_spread(nii_file,out_file,roi_list)\n",
    "    \n",
    "    return out_file"
   ]
  }
 ],
 "metadata": {
  "kernelspec": {
   "display_name": "Python 3",
   "language": "python",
   "name": "python3"
  },
  "language_info": {
   "codemirror_mode": {
    "name": "ipython",
    "version": 3
   },
   "file_extension": ".py",
   "mimetype": "text/x-python",
   "name": "python",
   "nbconvert_exporter": "python",
   "pygments_lexer": "ipython3",
   "version": "3.7.3"
  }
 },
 "nbformat": 4,
 "nbformat_minor": 2
}
